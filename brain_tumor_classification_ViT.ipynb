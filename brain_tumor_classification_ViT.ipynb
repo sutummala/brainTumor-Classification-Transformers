{
  "cells": [
    {
      "cell_type": "markdown",
      "metadata": {
        "id": "J-QJKi9oap5I"
      },
      "source": [
        "# Mounting the google drive"
      ]
    },
    {
      "cell_type": "code",
      "execution_count": 1,
      "metadata": {
        "colab": {
          "base_uri": "https://localhost:8080/"
        },
        "id": "EO9Iq5CfrgIM",
        "outputId": "87d12ce7-d3ea-4ac5-a156-3a5a3d75a2bd"
      },
      "outputs": [
        {
          "output_type": "stream",
          "name": "stdout",
          "text": [
            "Mounted at /content/drive\n"
          ]
        }
      ],
      "source": [
        "from google.colab import drive\n",
        "drive.mount('/content/drive')"
      ]
    },
    {
      "cell_type": "markdown",
      "metadata": {
        "id": "hL8dAhGYayAY"
      },
      "source": [
        "# Installing vit-keras and tensorflow addons"
      ]
    },
    {
      "cell_type": "code",
      "execution_count": 2,
      "metadata": {
        "colab": {
          "base_uri": "https://localhost:8080/"
        },
        "id": "4UV9yxzXKnE0",
        "outputId": "40900ecc-b47e-412f-f089-a19b97765bfc"
      },
      "outputs": [
        {
          "output_type": "stream",
          "name": "stdout",
          "text": [
            "Collecting vit-keras\n",
            "  Downloading vit_keras-0.1.0-py3-none-any.whl (24 kB)\n",
            "Collecting validators\n",
            "  Downloading validators-0.18.2-py3-none-any.whl (19 kB)\n",
            "Requirement already satisfied: scipy in /usr/local/lib/python3.7/dist-packages (from vit-keras) (1.4.1)\n",
            "Requirement already satisfied: numpy>=1.13.3 in /usr/local/lib/python3.7/dist-packages (from scipy->vit-keras) (1.21.5)\n",
            "Requirement already satisfied: six>=1.4.0 in /usr/local/lib/python3.7/dist-packages (from validators->vit-keras) (1.15.0)\n",
            "Requirement already satisfied: decorator>=3.4.0 in /usr/local/lib/python3.7/dist-packages (from validators->vit-keras) (4.4.2)\n",
            "Installing collected packages: validators, vit-keras\n",
            "Successfully installed validators-0.18.2 vit-keras-0.1.0\n",
            "Collecting tensorflow-addons\n",
            "  Downloading tensorflow_addons-0.16.1-cp37-cp37m-manylinux_2_12_x86_64.manylinux2010_x86_64.whl (1.1 MB)\n",
            "\u001b[K     |████████████████████████████████| 1.1 MB 15.1 MB/s \n",
            "\u001b[?25hRequirement already satisfied: typeguard>=2.7 in /usr/local/lib/python3.7/dist-packages (from tensorflow-addons) (2.7.1)\n",
            "Installing collected packages: tensorflow-addons\n",
            "Successfully installed tensorflow-addons-0.16.1\n"
          ]
        }
      ],
      "source": [
        "!pip install vit-keras\n",
        "!pip install tensorflow-addons"
      ]
    },
    {
      "cell_type": "markdown",
      "metadata": {
        "id": "MzUyiMsZa4TS"
      },
      "source": [
        "# Importing required modules"
      ]
    },
    {
      "cell_type": "code",
      "execution_count": 3,
      "metadata": {
        "id": "NM9ZZanCseS2"
      },
      "outputs": [],
      "source": [
        "import numpy as np\n",
        "import os\n",
        "import tensorflow as tf\n",
        "from tensorflow.keras import backend as K\n",
        "import matplotlib.pyplot as plt\n",
        "from sklearn.model_selection import RepeatedStratifiedKFold, train_test_split\n",
        "from vit_keras import vit, utils, visualize"
      ]
    },
    {
      "cell_type": "markdown",
      "metadata": {
        "id": "Xe60vrIUa-72"
      },
      "source": [
        "# Loading the data and labels\n",
        "### Converting the labels to int from float\n",
        "### Increasing the number of channels to three from one "
      ]
    },
    {
      "cell_type": "code",
      "execution_count": 4,
      "metadata": {
        "colab": {
          "base_uri": "https://localhost:8080/"
        },
        "id": "pao4aNq-sRGH",
        "outputId": "97785094-209e-4ef6-c7f1-2b4cf0375d2e"
      },
      "outputs": [
        {
          "output_type": "stream",
          "name": "stdout",
          "text": [
            "[0 0 0 ... 2 2 2]\n",
            "(3064, 224, 224, 3)\n",
            "0.0\n",
            "255.0\n"
          ]
        }
      ],
      "source": [
        "images_data = np.load('/content/drive/MyDrive/Datasets/figshare-brain-tumor/brain_tumor_figshare_224.npy')\n",
        "images_labels = np.load('/content/drive/MyDrive/Datasets/figshare-brain-tumor/brain_tumor_figshare_labels.npy')\n",
        "\n",
        "# chaning labels from float to int\n",
        "images_labels = images_labels-1\n",
        "images_labels = images_labels.astype(int)\n",
        "print(images_labels)\n",
        "\n",
        "# increasing the number of channels to three\n",
        "images_data = 255 * images_data\n",
        "images_data = np.repeat(images_data[..., np.newaxis], 3, -1)\n",
        "print(images_data.shape)\n",
        "print(np.min(images_data))\n",
        "print(np.max(images_data))  "
      ]
    },
    {
      "cell_type": "markdown",
      "metadata": {
        "id": "JV7z1aI3bWDL"
      },
      "source": [
        "## Preprocessing the data before feeding it to the CNN model"
      ]
    },
    {
      "cell_type": "code",
      "execution_count": 5,
      "metadata": {
        "colab": {
          "base_uri": "https://localhost:8080/"
        },
        "id": "T3-_Y-t7mxsP",
        "outputId": "432296fe-edf3-40cf-ba1f-f51746d31105"
      },
      "outputs": [
        {
          "output_type": "stream",
          "name": "stdout",
          "text": [
            "0.0\n",
            "255.0\n"
          ]
        }
      ],
      "source": [
        "images_data = tf.keras.applications.efficientnet_v2.preprocess_input(images_data)\n",
        "print(np.min(images_data))\n",
        "print(np.max(images_data))"
      ]
    },
    {
      "cell_type": "markdown",
      "metadata": {
        "id": "nE5lNvmlbbv7"
      },
      "source": [
        "## Preprocessing the data before feeding it to vision transformer"
      ]
    },
    {
      "cell_type": "code",
      "execution_count": 5,
      "metadata": {
        "colab": {
          "base_uri": "https://localhost:8080/"
        },
        "id": "2AabmEcd2VMg",
        "outputId": "b5619584-3b95-4d8b-a280-0bba517c4262"
      },
      "outputs": [
        {
          "output_type": "stream",
          "name": "stdout",
          "text": [
            "-1.0\n",
            "1.0\n"
          ]
        }
      ],
      "source": [
        "images_data = vit.preprocess_inputs(images_data)\n",
        "print(np.min(images_data))\n",
        "print(np.max(images_data))"
      ]
    },
    {
      "cell_type": "markdown",
      "metadata": {
        "id": "pHPPuee5bkOV"
      },
      "source": [
        "## Splitting the data into training and testing using 'train_test_split' from sklearn "
      ]
    },
    {
      "cell_type": "code",
      "execution_count": 18,
      "metadata": {
        "id": "fVpiWJEZyV6P"
      },
      "outputs": [],
      "source": [
        "x_train, x_test, y_train, y_test = train_test_split(images_data, images_labels, test_size = 0.2)"
      ]
    },
    {
      "cell_type": "code",
      "source": [
        "resolution = 224"
      ],
      "metadata": {
        "id": "sLliV69a64EF"
      },
      "execution_count": null,
      "outputs": []
    },
    {
      "cell_type": "code",
      "source": [
        "if resolution == 224:\n",
        "  np.save('/content/drive/MyDrive/Datasets/figshare-brain-tumor/x_train_224', x_train)\n",
        "  np.save('/content/drive/MyDrive/Datasets/figshare-brain-tumor/y_train_224', y_train)\n",
        "  np.save('/content/drive/MyDrive/Datasets/figshare-brain-tumor/x_test_224', x_test)\n",
        "  np.save('/content/drive/MyDrive/Datasets/figshare-brain-tumor/y_test_224', y_test)\n",
        "else:\n",
        "  np.save('/content/drive/MyDrive/Datasets/figshare-brain-tumor/x_train_384', x_train)\n",
        "  np.save('/content/drive/MyDrive/Datasets/figshare-brain-tumor/y_train_384', y_train)\n",
        "  np.save('/content/drive/MyDrive/Datasets/figshare-brain-tumor/x_test_384', x_test)\n",
        "  np.save('/content/drive/MyDrive/Datasets/figshare-brain-tumor/y_test_384', y_test)"
      ],
      "metadata": {
        "id": "_QmCkTD85YbL"
      },
      "execution_count": 19,
      "outputs": []
    },
    {
      "cell_type": "code",
      "source": [
        "if resolution == 224:\n",
        "  x_train = np.load('/content/drive/MyDrive/Datasets/figshare-brain-tumor/x_train_224.npy')\n",
        "  y_train = np.load('/content/drive/MyDrive/Datasets/figshare-brain-tumor/y_train_224.npy')\n",
        "  x_test = np.load('/content/drive/MyDrive/Datasets/figshare-brain-tumor/x_test_224.npy')\n",
        "  y_test = np.load('/content/drive/MyDrive/Datasets/figshare-brain-tumor/y_test_224.npy')\n",
        "else:\n",
        "  x_train = np.load('/content/drive/MyDrive/Datasets/figshare-brain-tumor/x_train_384.npy')\n",
        "  y_train = np.load('/content/drive/MyDrive/Datasets/figshare-brain-tumor/y_train_384.npy')\n",
        "  x_test = np.load('/content/drive/MyDrive/Datasets/figshare-brain-tumor/x_test_384.npy')\n",
        "  y_test = np.load('/content/drive/MyDrive/Datasets/figshare-brain-tumor/y_test_384.npy')"
      ],
      "metadata": {
        "id": "pSu84kAN6M3a"
      },
      "execution_count": null,
      "outputs": []
    },
    {
      "cell_type": "markdown",
      "metadata": {
        "id": "mLgVmEe3bvOI"
      },
      "source": [
        "## Alternative to train_test_split"
      ]
    },
    {
      "cell_type": "code",
      "execution_count": null,
      "metadata": {
        "colab": {
          "base_uri": "https://localhost:8080/"
        },
        "id": "G21vYsM_0Bjt",
        "outputId": "97de60f2-3554-4850-aad7-4ba4034b21eb"
      },
      "outputs": [
        {
          "name": "stdout",
          "output_type": "stream",
          "text": [
            "input size for cross-validation is 2452\n",
            "input size for testing is 612\n"
          ]
        }
      ],
      "source": [
        "folds = RepeatedStratifiedKFold(n_splits = 5, n_repeats = 1)\n",
        "\n",
        "for train_index, test_index in folds.split(images_data, images_labels):\n",
        "    images_data_cv, images_data_test, images_labels_cv, images_labels_test = images_data[train_index], images_data[test_index], images_labels[train_index], images_labels[test_index]\n",
        "\n",
        "print(f'input size for cross-validation is {len(images_labels_cv)}')\n",
        "\n",
        "print(f'input size for testing is {len(images_labels_test)}')"
      ]
    },
    {
      "cell_type": "markdown",
      "metadata": {
        "id": "p4z9JOEpsjrm"
      },
      "source": [
        "## Load a pretrained CNN model"
      ]
    },
    {
      "cell_type": "code",
      "execution_count": 87,
      "metadata": {
        "id": "pE0OsgH216n-"
      },
      "outputs": [],
      "source": [
        "img_shape = (images_data.shape[1], images_data.shape[2], 3)\n",
        "\n",
        "base_model = tf.keras.applications.EfficientNetV2B3(include_top = False, input_shape = img_shape, weights = 'imagenet')\n",
        "\n",
        "model = tf.keras.Sequential()\n",
        "#model.add(tf.keras.layers.Conv2D(3, (3,3), padding = 'same', activation = 'relu', input_shape = (images_data.shape[1], images_data.shape[2], 1)))\n",
        "#model.add(tf.keras.layers.BatchNormalization())\n",
        "model.add(base_model)\n",
        "model.add(tf.keras.layers.GlobalAveragePooling2D())\n",
        "model.add(tf.keras.layers.Dense(3, activation = 'softmax'))"
      ]
    },
    {
      "cell_type": "code",
      "execution_count": 88,
      "metadata": {
        "colab": {
          "base_uri": "https://localhost:8080/"
        },
        "id": "2Obdi_jG2q-Y",
        "outputId": "00e47221-1870-4b5c-894f-cf7e1cf1b181"
      },
      "outputs": [
        {
          "output_type": "stream",
          "name": "stdout",
          "text": [
            "Number of layers in the base model:  383\n",
            "Model: \"sequential_13\"\n",
            "_________________________________________________________________\n",
            " Layer (type)                Output Shape              Param #   \n",
            "=================================================================\n",
            " efficientnetv2-b3 (Function  (None, 7, 7, 1536)       12930622  \n",
            " al)                                                             \n",
            "                                                                 \n",
            " global_average_pooling2d_13  (None, 1536)             0         \n",
            "  (GlobalAveragePooling2D)                                       \n",
            "                                                                 \n",
            " dense_13 (Dense)            (None, 3)                 4611      \n",
            "                                                                 \n",
            "=================================================================\n",
            "Total params: 12,935,233\n",
            "Trainable params: 4,824,293\n",
            "Non-trainable params: 8,110,940\n",
            "_________________________________________________________________\n"
          ]
        }
      ],
      "source": [
        "base_model.trainable = True\n",
        "    \n",
        "# Let's take a look to see how many layers are in the base model\n",
        "print(\"Number of layers in the base model: \", len(base_model.layers))\n",
        "    \n",
        "# Fine-tune from this layer onwards\n",
        "fine_tune_at = int(0.8 * len(base_model.layers))\n",
        "    \n",
        "# Freeze all the layers before the `fine_tune_at` layer\n",
        "for layer in base_model.layers[:fine_tune_at]:\n",
        "    layer.trainable =  False\n",
        "    \n",
        "model.compile(optimizer = tf.keras.optimizers.Adadelta(learning_rate = 1.0), loss = 'sparse_categorical_crossentropy', metrics = ['accuracy'])\n",
        "model.summary()"
      ]
    },
    {
      "cell_type": "markdown",
      "metadata": {
        "id": "LLdJyuQ6t_EM"
      },
      "source": [
        "## Training and validating the CNN model"
      ]
    },
    {
      "cell_type": "code",
      "execution_count": 89,
      "metadata": {
        "colab": {
          "base_uri": "https://localhost:8080/"
        },
        "id": "dOhzZRx2-8ck",
        "outputId": "c4945f56-caee-405a-ebac-71e8845869dc"
      },
      "outputs": [
        {
          "output_type": "stream",
          "name": "stdout",
          "text": [
            "Epoch 1/15\n",
            "66/66 [==============================] - 16s 118ms/step - loss: 0.3463 - accuracy: 0.8608 - val_loss: 0.2817 - val_accuracy: 0.8913\n",
            "Epoch 2/15\n",
            "66/66 [==============================] - 5s 82ms/step - loss: 0.0754 - accuracy: 0.9755 - val_loss: 0.1205 - val_accuracy: 0.9538\n",
            "Epoch 3/15\n",
            "66/66 [==============================] - 5s 83ms/step - loss: 0.0303 - accuracy: 0.9899 - val_loss: 0.2602 - val_accuracy: 0.9158\n",
            "Epoch 4/15\n",
            "66/66 [==============================] - 5s 82ms/step - loss: 0.0152 - accuracy: 0.9942 - val_loss: 0.1012 - val_accuracy: 0.9647\n",
            "Epoch 5/15\n",
            "66/66 [==============================] - 5s 82ms/step - loss: 0.0045 - accuracy: 0.9990 - val_loss: 0.1485 - val_accuracy: 0.9620\n",
            "Epoch 6/15\n",
            "66/66 [==============================] - 5s 83ms/step - loss: 0.0039 - accuracy: 0.9986 - val_loss: 0.4609 - val_accuracy: 0.8967\n",
            "Epoch 7/15\n",
            "66/66 [==============================] - 5s 82ms/step - loss: 0.0110 - accuracy: 0.9962 - val_loss: 0.3650 - val_accuracy: 0.9130\n",
            "Epoch 8/15\n",
            "66/66 [==============================] - 5s 82ms/step - loss: 0.0042 - accuracy: 0.9990 - val_loss: 0.1366 - val_accuracy: 0.9565\n",
            "Epoch 9/15\n",
            "66/66 [==============================] - 5s 82ms/step - loss: 0.0010 - accuracy: 1.0000 - val_loss: 0.1370 - val_accuracy: 0.9592\n",
            "Epoch 10/15\n",
            "66/66 [==============================] - 5s 82ms/step - loss: 4.8815e-04 - accuracy: 1.0000 - val_loss: 0.1810 - val_accuracy: 0.9565\n",
            "Epoch 11/15\n",
            "66/66 [==============================] - 5s 82ms/step - loss: 0.0055 - accuracy: 0.9986 - val_loss: 0.1276 - val_accuracy: 0.9592\n",
            "Epoch 12/15\n",
            "66/66 [==============================] - 5s 82ms/step - loss: 0.0029 - accuracy: 0.9995 - val_loss: 0.1557 - val_accuracy: 0.9565\n",
            "Epoch 13/15\n",
            "66/66 [==============================] - 5s 82ms/step - loss: 8.5214e-04 - accuracy: 1.0000 - val_loss: 0.1820 - val_accuracy: 0.9484\n",
            "Epoch 14/15\n",
            "66/66 [==============================] - 5s 82ms/step - loss: 0.0028 - accuracy: 0.9990 - val_loss: 0.2823 - val_accuracy: 0.9348\n",
            "Epoch 15/15\n",
            "66/66 [==============================] - 5s 82ms/step - loss: 0.0122 - accuracy: 0.9971 - val_loss: 0.1404 - val_accuracy: 0.9592\n"
          ]
        },
        {
          "output_type": "execute_result",
          "data": {
            "text/plain": [
              "<keras.callbacks.History at 0x7f6c4ddbd090>"
            ]
          },
          "metadata": {},
          "execution_count": 89
        }
      ],
      "source": [
        "model.fit(x_train, y_train, batch_size = 32, epochs = 15, validation_split = 0.15)"
      ]
    },
    {
      "cell_type": "markdown",
      "metadata": {
        "id": "TFisJAvPtguC"
      },
      "source": [
        "## Testing the CNN model"
      ]
    },
    {
      "cell_type": "code",
      "execution_count": 90,
      "metadata": {
        "colab": {
          "base_uri": "https://localhost:8080/"
        },
        "id": "LzFkAwSalLPj",
        "outputId": "9f0daa3d-4605-478c-a742-e98093f2fb33"
      },
      "outputs": [
        {
          "output_type": "stream",
          "name": "stdout",
          "text": [
            "20/20 [==============================] - 1s 54ms/step - loss: 0.1599 - accuracy: 0.9543\n"
          ]
        },
        {
          "output_type": "execute_result",
          "data": {
            "text/plain": [
              "[0.15985330939292908, 0.9543229937553406]"
            ]
          },
          "metadata": {},
          "execution_count": 90
        }
      ],
      "source": [
        "model.evaluate(x_test, y_test)"
      ]
    },
    {
      "cell_type": "code",
      "source": [
        "y_pred = model.predict(x_test)"
      ],
      "metadata": {
        "id": "AGgUkLAnTZHU"
      },
      "execution_count": 84,
      "outputs": []
    },
    {
      "cell_type": "code",
      "source": [
        "print(y_pred)\n",
        "y_prob = np.argmax(y_pred, axis = 1) # softmax outputs converted to labels\n",
        "print(y_prob)"
      ],
      "metadata": {
        "colab": {
          "base_uri": "https://localhost:8080/"
        },
        "id": "9_9HTj4kTgqq",
        "outputId": "d3f7649b-a257-42a3-c281-35aea61a0105"
      },
      "execution_count": 85,
      "outputs": [
        {
          "output_type": "stream",
          "name": "stdout",
          "text": [
            "[[9.99984741e-01 1.52374705e-05 2.48289087e-08]\n",
            " [4.38394591e-06 2.05651372e-06 9.99993563e-01]\n",
            " [9.71860290e-01 2.73488164e-02 7.90995080e-04]\n",
            " ...\n",
            " [3.20388699e-06 6.16145235e-06 9.99990582e-01]\n",
            " [8.21610229e-08 9.99999881e-01 3.64160613e-08]\n",
            " [5.75369841e-09 3.78113363e-09 1.00000000e+00]]\n",
            "[0 2 0 1 1 0 1 1 0 2 2 1 1 0 2 0 0 1 1 0 2 1 2 1 2 2 1 2 0 1 2 1 2 1 1 0 0\n",
            " 1 1 1 1 2 1 1 0 1 1 1 1 2 1 1 1 1 1 2 2 2 1 2 2 2 2 0 1 2 1 0 0 1 2 1 2 1\n",
            " 1 2 1 0 2 1 1 0 1 0 1 1 2 2 0 1 1 1 1 0 1 1 2 1 1 1 1 2 0 2 2 2 0 1 1 0 1\n",
            " 2 1 1 1 1 1 2 1 1 2 0 2 0 1 1 1 0 1 0 0 1 2 0 1 2 2 1 1 2 1 1 1 0 2 1 0 1\n",
            " 2 1 2 1 1 1 2 1 1 2 2 1 1 0 2 2 1 2 0 1 2 1 1 2 0 2 0 2 2 1 1 1 2 1 1 0 2\n",
            " 0 0 2 1 1 0 1 2 1 1 1 2 1 1 0 1 0 0 2 0 0 2 1 0 0 2 0 0 1 0 2 2 1 2 1 0 1\n",
            " 0 0 1 1 0 1 2 1 2 0 2 2 1 1 1 1 0 1 2 0 1 2 0 2 0 0 1 2 1 1 1 1 2 1 1 1 2\n",
            " 1 2 2 2 1 0 1 1 2 1 1 1 1 0 1 2 1 1 1 1 1 1 2 2 1 0 2 1 2 1 1 1 1 1 1 1 2\n",
            " 1 1 1 1 1 1 0 2 1 2 1 1 1 1 1 1 2 1 1 2 0 2 2 2 1 0 1 1 2 1 0 0 2 0 0 2 1\n",
            " 2 1 0 2 2 1 2 2 1 2 0 2 0 0 0 0 2 1 2 0 1 0 2 0 1 1 2 1 1 2 1 0 0 0 2 1 1\n",
            " 1 1 0 2 1 0 0 2 2 0 2 1 0 2 1 0 1 2 1 0 0 1 1 0 2 1 0 0 0 2 2 2 2 2 0 1 2\n",
            " 2 1 1 0 0 2 2 2 0 2 1 2 2 0 2 0 1 0 1 0 0 1 1 2 2 0 2 1 2 1 1 2 2 1 1 1 1\n",
            " 1 0 2 0 1 0 0 0 0 0 1 2 2 0 0 1 2 2 0 2 2 1 0 1 2 0 2 0 1 1 1 2 2 1 1 0 2\n",
            " 1 1 1 1 1 0 1 1 0 0 1 2 0 2 2 1 1 2 2 2 2 1 1 2 1 0 2 0 1 2 2 1 1 2 1 2 0\n",
            " 1 2 1 2 2 1 0 0 0 2 0 1 2 2 1 0 1 1 1 1 0 1 1 0 1 1 1 2 1 1 2 0 1 2 2 1 1\n",
            " 1 1 1 1 0 1 1 2 1 1 2 1 0 0 0 2 2 2 1 1 1 1 0 0 1 2 0 1 2 1 1 0 1 2 0 1 0\n",
            " 2 1 2 1 2 2 2 1 2 1 1 1 0 0 2 2 1 2 2 1 2]\n"
          ]
        }
      ]
    },
    {
      "cell_type": "code",
      "source": [
        "import tensorflow_addons as tfa\n",
        "metric = tfa.metrics.F1Score(num_classes=3, threshold=0.5)\n",
        "metric.update_state(tf.keras.utils.to_categorical(y_test), tf.keras.utils.to_categorical(y_prob))\n",
        "result = metric.result()\n",
        "result.numpy()"
      ],
      "metadata": {
        "colab": {
          "base_uri": "https://localhost:8080/"
        },
        "id": "bGXsTFWxS7G2",
        "outputId": "d2f9721b-3f91-4c33-8ad0-87d53046327e"
      },
      "execution_count": 45,
      "outputs": [
        {
          "output_type": "execute_result",
          "data": {
            "text/plain": [
              "array([0.9230769, 0.9722222, 0.9846154], dtype=float32)"
            ]
          },
          "metadata": {},
          "execution_count": 45
        }
      ]
    },
    {
      "cell_type": "markdown",
      "metadata": {
        "id": "lhFQO0zMb8EA"
      },
      "source": [
        "## Loaind the pretrained vision transformer model from vit-keras"
      ]
    },
    {
      "cell_type": "code",
      "execution_count": 10,
      "metadata": {
        "colab": {
          "base_uri": "https://localhost:8080/"
        },
        "id": "Er9i1Nsvt3We",
        "outputId": "eb29cd11-f7df-4d14-c5b1-2a1ce3b71619"
      },
      "outputs": [
        {
          "output_type": "stream",
          "name": "stderr",
          "text": [
            "/usr/local/lib/python3.7/dist-packages/vit_keras/utils.py:83: UserWarning: Resizing position embeddings from 12, 12 to 7, 7\n",
            "  UserWarning,\n"
          ]
        }
      ],
      "source": [
        "image_size = images_data.shape[1]\n",
        "vit_base_model = vit.vit_b32(include_top = False, pretrained_top = False, activation = 'softmax', pretrained = True, classes = 3, image_size = image_size)\n",
        "\n",
        "vit_model = tf.keras.Sequential()\n",
        "vit_model.add(vit_base_model)\n",
        "vit_model.add(tf.keras.layers.Flatten())\n",
        "vit_model.add(tf.keras.layers.BatchNormalization())\n",
        "vit_model.add(tf.keras.layers.Dense(10, activation = 'gelu'))\n",
        "vit_model.add(tf.keras.layers.BatchNormalization())\n",
        "vit_model.add(tf.keras.layers.Dense(3, activation = 'softmax'))"
      ]
    },
    {
      "cell_type": "markdown",
      "metadata": {
        "id": "sQrPnxI3cBdx"
      },
      "source": [
        "## Model compilation and summary"
      ]
    },
    {
      "cell_type": "code",
      "execution_count": 11,
      "metadata": {
        "colab": {
          "base_uri": "https://localhost:8080/"
        },
        "id": "gzQOsU0ZvRLj",
        "outputId": "779c120a-2809-4c37-c8e1-1cd5fbb5078b"
      },
      "outputs": [
        {
          "output_type": "stream",
          "name": "stdout",
          "text": [
            "Model: \"sequential_1\"\n",
            "_________________________________________________________________\n",
            " Layer (type)                Output Shape              Param #   \n",
            "=================================================================\n",
            " vit-b32 (Functional)        (None, 768)               87455232  \n",
            "                                                                 \n",
            " flatten_1 (Flatten)         (None, 768)               0         \n",
            "                                                                 \n",
            " batch_normalization_2 (Batc  (None, 768)              3072      \n",
            " hNormalization)                                                 \n",
            "                                                                 \n",
            " dense_2 (Dense)             (None, 10)                7690      \n",
            "                                                                 \n",
            " batch_normalization_3 (Batc  (None, 10)               40        \n",
            " hNormalization)                                                 \n",
            "                                                                 \n",
            " dense_3 (Dense)             (None, 3)                 33        \n",
            "                                                                 \n",
            "=================================================================\n",
            "Total params: 87,466,067\n",
            "Trainable params: 87,464,511\n",
            "Non-trainable params: 1,556\n",
            "_________________________________________________________________\n"
          ]
        }
      ],
      "source": [
        "vit_model.compile(optimizer = tf.keras.optimizers.Adadelta(learning_rate = 0.01), loss = 'sparse_categorical_crossentropy', metrics = ['accuracy'])\n",
        "vit_model.summary()"
      ]
    },
    {
      "cell_type": "markdown",
      "metadata": {
        "id": "CIy8ykuQcFmD"
      },
      "source": [
        "## Training and validating the model"
      ]
    },
    {
      "cell_type": "code",
      "execution_count": 12,
      "metadata": {
        "colab": {
          "base_uri": "https://localhost:8080/"
        },
        "id": "BGfgFoObwDHv",
        "outputId": "3d8159eb-7006-420c-c81e-63e8c5ac4f68"
      },
      "outputs": [
        {
          "output_type": "stream",
          "name": "stdout",
          "text": [
            "Epoch 1/40\n",
            "82/82 [==============================] - 33s 242ms/step - loss: 0.9635 - accuracy: 0.5707 - val_loss: 0.7972 - val_accuracy: 0.6565\n",
            "Epoch 2/40\n",
            "82/82 [==============================] - 17s 210ms/step - loss: 0.5547 - accuracy: 0.7811 - val_loss: 0.5184 - val_accuracy: 0.7913\n",
            "Epoch 3/40\n",
            "82/82 [==============================] - 17s 206ms/step - loss: 0.4931 - accuracy: 0.8210 - val_loss: 0.4412 - val_accuracy: 0.7913\n",
            "Epoch 4/40\n",
            "82/82 [==============================] - 17s 204ms/step - loss: 0.4411 - accuracy: 0.8303 - val_loss: 0.3591 - val_accuracy: 0.8652\n",
            "Epoch 5/40\n",
            "82/82 [==============================] - 17s 204ms/step - loss: 0.3767 - accuracy: 0.8717 - val_loss: 0.3250 - val_accuracy: 0.8957\n",
            "Epoch 6/40\n",
            "82/82 [==============================] - 17s 206ms/step - loss: 0.3324 - accuracy: 0.8856 - val_loss: 0.3159 - val_accuracy: 0.8739\n",
            "Epoch 7/40\n",
            "82/82 [==============================] - 17s 206ms/step - loss: 0.2942 - accuracy: 0.9071 - val_loss: 0.2767 - val_accuracy: 0.8870\n",
            "Epoch 8/40\n",
            "82/82 [==============================] - 17s 206ms/step - loss: 0.3052 - accuracy: 0.8978 - val_loss: 0.2808 - val_accuracy: 0.8913\n",
            "Epoch 9/40\n",
            "82/82 [==============================] - 17s 205ms/step - loss: 0.2677 - accuracy: 0.9124 - val_loss: 0.2434 - val_accuracy: 0.9000\n",
            "Epoch 10/40\n",
            "82/82 [==============================] - 17s 205ms/step - loss: 0.2409 - accuracy: 0.9309 - val_loss: 0.2655 - val_accuracy: 0.8957\n",
            "Epoch 11/40\n",
            "82/82 [==============================] - 17s 205ms/step - loss: 0.2273 - accuracy: 0.9217 - val_loss: 0.2166 - val_accuracy: 0.9130\n",
            "Epoch 12/40\n",
            "82/82 [==============================] - 17s 205ms/step - loss: 0.2176 - accuracy: 0.9401 - val_loss: 0.2776 - val_accuracy: 0.8826\n",
            "Epoch 13/40\n",
            "82/82 [==============================] - 17s 205ms/step - loss: 0.2047 - accuracy: 0.9432 - val_loss: 0.2072 - val_accuracy: 0.9261\n",
            "Epoch 14/40\n",
            "82/82 [==============================] - 17s 205ms/step - loss: 0.1941 - accuracy: 0.9531 - val_loss: 0.1981 - val_accuracy: 0.9174\n",
            "Epoch 15/40\n",
            "82/82 [==============================] - 17s 205ms/step - loss: 0.1793 - accuracy: 0.9639 - val_loss: 0.2366 - val_accuracy: 0.9130\n",
            "Epoch 16/40\n",
            "82/82 [==============================] - 17s 206ms/step - loss: 0.1840 - accuracy: 0.9508 - val_loss: 0.2193 - val_accuracy: 0.9000\n",
            "Epoch 17/40\n",
            "82/82 [==============================] - 17s 206ms/step - loss: 0.1663 - accuracy: 0.9677 - val_loss: 0.2078 - val_accuracy: 0.9087\n",
            "Epoch 18/40\n",
            "82/82 [==============================] - 17s 205ms/step - loss: 0.1625 - accuracy: 0.9639 - val_loss: 0.2160 - val_accuracy: 0.9304\n",
            "Epoch 19/40\n",
            "82/82 [==============================] - 17s 206ms/step - loss: 0.1403 - accuracy: 0.9754 - val_loss: 0.1931 - val_accuracy: 0.9348\n",
            "Epoch 20/40\n",
            "82/82 [==============================] - 17s 206ms/step - loss: 0.1328 - accuracy: 0.9831 - val_loss: 0.2021 - val_accuracy: 0.9261\n",
            "Epoch 21/40\n",
            "82/82 [==============================] - 17s 205ms/step - loss: 0.1301 - accuracy: 0.9800 - val_loss: 0.1997 - val_accuracy: 0.9304\n",
            "Epoch 22/40\n",
            "82/82 [==============================] - 17s 206ms/step - loss: 0.1424 - accuracy: 0.9762 - val_loss: 0.1973 - val_accuracy: 0.9261\n",
            "Epoch 23/40\n",
            "82/82 [==============================] - 17s 206ms/step - loss: 0.1355 - accuracy: 0.9762 - val_loss: 0.2018 - val_accuracy: 0.9348\n",
            "Epoch 24/40\n",
            "82/82 [==============================] - 17s 206ms/step - loss: 0.1311 - accuracy: 0.9770 - val_loss: 0.2005 - val_accuracy: 0.9348\n",
            "Epoch 25/40\n",
            "82/82 [==============================] - 17s 205ms/step - loss: 0.1150 - accuracy: 0.9869 - val_loss: 0.1899 - val_accuracy: 0.9304\n",
            "Epoch 26/40\n",
            "82/82 [==============================] - 17s 206ms/step - loss: 0.1336 - accuracy: 0.9739 - val_loss: 0.1937 - val_accuracy: 0.9348\n",
            "Epoch 27/40\n",
            "82/82 [==============================] - 17s 204ms/step - loss: 0.1212 - accuracy: 0.9808 - val_loss: 0.2085 - val_accuracy: 0.9304\n",
            "Epoch 28/40\n",
            "82/82 [==============================] - 17s 204ms/step - loss: 0.1107 - accuracy: 0.9831 - val_loss: 0.2055 - val_accuracy: 0.9304\n",
            "Epoch 29/40\n",
            "82/82 [==============================] - 17s 206ms/step - loss: 0.1053 - accuracy: 0.9831 - val_loss: 0.1986 - val_accuracy: 0.9348\n",
            "Epoch 30/40\n",
            "82/82 [==============================] - 17s 206ms/step - loss: 0.1209 - accuracy: 0.9831 - val_loss: 0.1968 - val_accuracy: 0.9348\n",
            "Epoch 31/40\n",
            "82/82 [==============================] - 17s 205ms/step - loss: 0.1007 - accuracy: 0.9877 - val_loss: 0.2041 - val_accuracy: 0.9348\n",
            "Epoch 32/40\n",
            "82/82 [==============================] - 17s 205ms/step - loss: 0.1008 - accuracy: 0.9869 - val_loss: 0.1914 - val_accuracy: 0.9348\n",
            "Epoch 33/40\n",
            "82/82 [==============================] - 17s 205ms/step - loss: 0.0955 - accuracy: 0.9931 - val_loss: 0.1908 - val_accuracy: 0.9348\n",
            "Epoch 34/40\n",
            "82/82 [==============================] - 17s 205ms/step - loss: 0.0901 - accuracy: 0.9908 - val_loss: 0.1893 - val_accuracy: 0.9348\n",
            "Epoch 35/40\n",
            "82/82 [==============================] - 17s 205ms/step - loss: 0.0866 - accuracy: 0.9923 - val_loss: 0.2164 - val_accuracy: 0.9217\n",
            "Epoch 36/40\n",
            "82/82 [==============================] - 17s 206ms/step - loss: 0.0884 - accuracy: 0.9923 - val_loss: 0.2236 - val_accuracy: 0.9174\n",
            "Epoch 37/40\n",
            "82/82 [==============================] - 17s 205ms/step - loss: 0.0845 - accuracy: 0.9939 - val_loss: 0.2057 - val_accuracy: 0.9348\n",
            "Epoch 38/40\n",
            "82/82 [==============================] - 17s 205ms/step - loss: 0.0908 - accuracy: 0.9892 - val_loss: 0.2137 - val_accuracy: 0.9348\n",
            "Epoch 39/40\n",
            "82/82 [==============================] - 17s 205ms/step - loss: 0.0816 - accuracy: 0.9916 - val_loss: 0.2091 - val_accuracy: 0.9348\n",
            "Epoch 40/40\n",
            "82/82 [==============================] - 17s 205ms/step - loss: 0.0827 - accuracy: 0.9931 - val_loss: 0.2141 - val_accuracy: 0.9304\n"
          ]
        },
        {
          "output_type": "execute_result",
          "data": {
            "text/plain": [
              "<keras.callbacks.History at 0x7f1734908250>"
            ]
          },
          "metadata": {},
          "execution_count": 12
        }
      ],
      "source": [
        "vit_model.fit(x_train, y_train, batch_size = 16, epochs = 40, validation_split = 0.15)"
      ]
    },
    {
      "cell_type": "markdown",
      "metadata": {
        "id": "XOf5moCecMkS"
      },
      "source": [
        "## Model testing on the test set"
      ]
    },
    {
      "cell_type": "code",
      "execution_count": 13,
      "metadata": {
        "colab": {
          "base_uri": "https://localhost:8080/"
        },
        "id": "56NwGg-GxAhg",
        "outputId": "3a788f6c-9629-4ec4-d694-34e1dd1b0f76"
      },
      "outputs": [
        {
          "output_type": "stream",
          "name": "stdout",
          "text": [
            "48/48 [==============================] - 6s 115ms/step - loss: 0.1874 - accuracy: 0.9413\n"
          ]
        },
        {
          "output_type": "execute_result",
          "data": {
            "text/plain": [
              "[0.18737761676311493, 0.9412532448768616]"
            ]
          },
          "metadata": {},
          "execution_count": 13
        }
      ],
      "source": [
        "vit_model.evaluate(x_test, y_test)"
      ]
    },
    {
      "cell_type": "code",
      "source": [
        "y_pred = vit_model.predict(x_test)"
      ],
      "metadata": {
        "id": "BS0Hdql6TDvi"
      },
      "execution_count": 14,
      "outputs": []
    },
    {
      "cell_type": "code",
      "source": [
        "print(y_pred)\n",
        "y_prob = np.argmax(y_pred, axis = 1) # softmax outputs converted to labels\n",
        "print(y_prob)"
      ],
      "metadata": {
        "colab": {
          "base_uri": "https://localhost:8080/"
        },
        "id": "Yw0CJAUyTRRO",
        "outputId": "df689a99-979d-4564-b7ef-4994afd52bea"
      },
      "execution_count": 15,
      "outputs": [
        {
          "output_type": "stream",
          "name": "stdout",
          "text": [
            "[[8.0867745e-03 9.8414534e-01 7.7678314e-03]\n",
            " [2.8646067e-01 6.7482167e-01 3.8717616e-02]\n",
            " [2.7132029e-02 2.1521060e-04 9.7265279e-01]\n",
            " ...\n",
            " [1.3332987e-01 8.4590381e-01 2.0766249e-02]\n",
            " [2.9620139e-03 1.6979919e-03 9.9533999e-01]\n",
            " [9.4987679e-01 1.7379193e-02 3.2744020e-02]]\n",
            "[1 1 2 ... 1 2 0]\n"
          ]
        }
      ]
    },
    {
      "cell_type": "code",
      "source": [
        "from sklearn.metrics import roc_auc_score\n",
        "y_test = tf.keras.utils.to_categorical(y_test)\n",
        "y_prob = tf.keras.utils.to_categorical(y_prob)\n",
        "macro_roc_auc_ovo = roc_auc_score(y_test, y_prob, multi_class=\"ovo\", average=\"macro\")\n",
        "weighted_roc_auc_ovo = roc_auc_score(\n",
        "    y_test, y_prob, multi_class=\"ovo\", average=\"weighted\"\n",
        ")\n",
        "macro_roc_auc_ovr = roc_auc_score(y_test, y_prob, multi_class=\"ovr\", average=\"macro\")\n",
        "weighted_roc_auc_ovr = roc_auc_score(\n",
        "    y_test, y_prob, multi_class=\"ovr\", average=\"weighted\"\n",
        ")\n",
        "print(\n",
        "    \"One-vs-One ROC AUC scores:\\n{:.6f} (macro),\\n{:.6f} \"\n",
        "    \"(weighted by prevalence)\".format(macro_roc_auc_ovo, weighted_roc_auc_ovo)\n",
        ")\n",
        "print(\n",
        "    \"One-vs-Rest ROC AUC scores:\\n{:.6f} (macro),\\n{:.6f} \"\n",
        "    \"(weighted by prevalence)\".format(macro_roc_auc_ovr, weighted_roc_auc_ovr)\n",
        ")"
      ],
      "metadata": {
        "colab": {
          "base_uri": "https://localhost:8080/"
        },
        "id": "VmItd56OSepy",
        "outputId": "90a9c58b-abae-41c6-c017-430a95f4d322"
      },
      "execution_count": 17,
      "outputs": [
        {
          "output_type": "stream",
          "name": "stdout",
          "text": [
            "One-vs-One ROC AUC scores:\n",
            "0.950251 (macro),\n",
            "0.955345 (weighted by prevalence)\n",
            "One-vs-Rest ROC AUC scores:\n",
            "0.950251 (macro),\n",
            "0.955345 (weighted by prevalence)\n"
          ]
        }
      ]
    },
    {
      "cell_type": "code",
      "source": [
        "from sklearn.metrics import confusion_matrix\n",
        "import seaborn as sns\n",
        "\n",
        "confusion_mat = confusion_matrix(y_test, y_prob, normalize = None)\n",
        "class_names = ['Meningioma', 'Glioma', 'Pituitary Tumor']\n",
        "print(confusion_mat)\n",
        "\n",
        "# Plotting multilabel confusion matrix in a beautiful manner\n",
        "sns.set(font_scale=2)\n",
        "fig = plt.figure(figsize=(12, 8))\n",
        "ax= plt.subplot()\n",
        "sns.heatmap(confusion_mat, annot=True, vmin = 0, vmax = np.max(confusion_mat), ax = ax, cmap = 'YlGnBu', fmt = '2.0f'); #annot=True to annotate cells\n",
        "# labels, title and ticks\n",
        "ax.set_xlabel('Predicted Class', fontsize=25)\n",
        "ax.xaxis.set_label_position('bottom')\n",
        "plt.xticks(rotation=45)\n",
        "ax.xaxis.set_ticklabels(class_names, fontsize = 20)\n",
        "ax.xaxis.tick_bottom()\n",
        "\n",
        "ax.set_ylabel('True Class', fontsize=25)\n",
        "ax.yaxis.set_ticklabels(class_names, fontsize = 20)\n",
        "plt.yticks(rotation=0)\n",
        "\n",
        "#plt.title('Confusion Matrix 224', fontsize=25)\n",
        "\n",
        "plt.show()"
      ],
      "metadata": {
        "colab": {
          "base_uri": "https://localhost:8080/",
          "height": 676
        },
        "id": "m4gjDv-yWaO_",
        "outputId": "20b427a9-080c-400b-b332-767584c79d6c"
      },
      "execution_count": 16,
      "outputs": [
        {
          "output_type": "stream",
          "name": "stdout",
          "text": [
            "[[293  26  31]\n",
            " [ 28 693   4]\n",
            " [  1   0 456]]\n"
          ]
        },
        {
          "output_type": "display_data",
          "data": {
            "text/plain": [
              "<Figure size 864x576 with 2 Axes>"
            ],
            "image/png": "[encoded data removed]"
          },
          "metadata": {}
        }
      ]
    },
    {
      "cell_type": "code",
      "execution_count": null,
      "metadata": {
        "id": "qOsnUVARQiiu"
      },
      "outputs": [],
      "source": [
        "image = x_test[0]\n",
        "print(image.shape)\n",
        "\n",
        "attention_map = visualize.attention_map(model = vit_model, image = image)\n",
        "\n",
        "# Plot results\n",
        "fig, (ax1, ax2) = plt.subplots(ncols = 2)\n",
        "ax1.axis('off')\n",
        "ax2.axis('off')\n",
        "ax1.set_title('Original')\n",
        "ax2.set_title('Attention Map')\n",
        "_ = ax1.imshow(image)\n",
        "_ = ax2.imshow(attention_map)\n"
      ]
    }
  ],
  "metadata": {
    "accelerator": "GPU",
    "colab": {
      "collapsed_sections": [],
      "machine_shape": "hm",
      "name": "brain_tumor_classification_ViT.ipynb",
      "provenance": []
    },
    "kernelspec": {
      "display_name": "Python 3",
      "name": "python3"
    },
    "language_info": {
      "name": "python"
    }
  },
  "nbformat": 4,
  "nbformat_minor": 0
}